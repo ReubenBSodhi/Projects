{
 "cells": [
  {
   "cell_type": "markdown",
   "metadata": {},
   "source": [
    "# Covid-19 Data Analysis"
   ]
  },
  {
   "cell_type": "markdown",
   "metadata": {},
   "source": [
    "This project consists of exploring Covid-19 data. The current pandemic has resulted in a need for a better understanding of infectious diseases and how they spread. This lends itself well to data science which has the necessary tools needed to analyse data of this kind in numerous ways. This project aims to perform time-series analysis on Covid-19 data from numerous countries to create predictions on how many Covid-19 cases there will be in the future. It will begin by introducing the data set and discussing some limitations and will then move on to some data manipulation necessary for time series analysis. Then time series analysis will be performed to create predictions for a chosen country."
   ]
  },
  {
   "cell_type": "markdown",
   "metadata": {},
   "source": [
    "### The Data"
   ]
  },
  {
   "cell_type": "markdown",
   "metadata": {},
   "source": [
    "The data used in this project was obtained from John Hopkins University and is composed of Covid-19 cases for particular dates in numerous countries across the world. It also contains the latitude and longitude of each country. Note that this data does not contain information on deaths from Covid or the number of vaccinations, which means that analysis on this data will only be able to predict how cases will rise in the absence of vaccination programmes in all countries."
   ]
  },
  {
   "cell_type": "code",
   "execution_count": 1,
   "metadata": {},
   "outputs": [
    {
     "data": {
      "text/html": [
       "<div>\n",
       "<style scoped>\n",
       "    .dataframe tbody tr th:only-of-type {\n",
       "        vertical-align: middle;\n",
       "    }\n",
       "\n",
       "    .dataframe tbody tr th {\n",
       "        vertical-align: top;\n",
       "    }\n",
       "\n",
       "    .dataframe thead th {\n",
       "        text-align: right;\n",
       "    }\n",
       "</style>\n",
       "<table border=\"1\" class=\"dataframe\">\n",
       "  <thead>\n",
       "    <tr style=\"text-align: right;\">\n",
       "      <th></th>\n",
       "      <th>Province/State</th>\n",
       "      <th>Country/Region</th>\n",
       "      <th>Lat</th>\n",
       "      <th>Long</th>\n",
       "      <th>1/22/20</th>\n",
       "      <th>1/23/20</th>\n",
       "      <th>1/24/20</th>\n",
       "      <th>1/25/20</th>\n",
       "      <th>1/26/20</th>\n",
       "      <th>1/27/20</th>\n",
       "      <th>...</th>\n",
       "      <th>9/24/21</th>\n",
       "      <th>9/25/21</th>\n",
       "      <th>9/26/21</th>\n",
       "      <th>9/27/21</th>\n",
       "      <th>9/28/21</th>\n",
       "      <th>9/29/21</th>\n",
       "      <th>9/30/21</th>\n",
       "      <th>10/1/21</th>\n",
       "      <th>10/2/21</th>\n",
       "      <th>10/3/21\\</th>\n",
       "    </tr>\n",
       "  </thead>\n",
       "  <tbody>\n",
       "    <tr>\n",
       "      <th>0</th>\n",
       "      <td>NaN</td>\n",
       "      <td>Afghanistan</td>\n",
       "      <td>33.93911</td>\n",
       "      <td>67.709953</td>\n",
       "      <td>0</td>\n",
       "      <td>0</td>\n",
       "      <td>0</td>\n",
       "      <td>0</td>\n",
       "      <td>0</td>\n",
       "      <td>0</td>\n",
       "      <td>...</td>\n",
       "      <td>154960</td>\n",
       "      <td>154960</td>\n",
       "      <td>154960</td>\n",
       "      <td>155072</td>\n",
       "      <td>155093</td>\n",
       "      <td>155128</td>\n",
       "      <td>155174</td>\n",
       "      <td>155191</td>\n",
       "      <td>155191</td>\n",
       "      <td>155191\\</td>\n",
       "    </tr>\n",
       "    <tr>\n",
       "      <th>1</th>\n",
       "      <td>NaN</td>\n",
       "      <td>Albania</td>\n",
       "      <td>41.15330</td>\n",
       "      <td>20.168300</td>\n",
       "      <td>0</td>\n",
       "      <td>0</td>\n",
       "      <td>0</td>\n",
       "      <td>0</td>\n",
       "      <td>0</td>\n",
       "      <td>0</td>\n",
       "      <td>...</td>\n",
       "      <td>166690</td>\n",
       "      <td>167354</td>\n",
       "      <td>167893</td>\n",
       "      <td>168188</td>\n",
       "      <td>168782</td>\n",
       "      <td>169462</td>\n",
       "      <td>170131</td>\n",
       "      <td>170778</td>\n",
       "      <td>171327</td>\n",
       "      <td>171794\\</td>\n",
       "    </tr>\n",
       "    <tr>\n",
       "      <th>2</th>\n",
       "      <td>NaN</td>\n",
       "      <td>Algeria</td>\n",
       "      <td>28.03390</td>\n",
       "      <td>1.659600</td>\n",
       "      <td>0</td>\n",
       "      <td>0</td>\n",
       "      <td>0</td>\n",
       "      <td>0</td>\n",
       "      <td>0</td>\n",
       "      <td>0</td>\n",
       "      <td>...</td>\n",
       "      <td>202449</td>\n",
       "      <td>202574</td>\n",
       "      <td>202722</td>\n",
       "      <td>202877</td>\n",
       "      <td>203045</td>\n",
       "      <td>203198</td>\n",
       "      <td>203359</td>\n",
       "      <td>203517</td>\n",
       "      <td>203657</td>\n",
       "      <td>203789\\</td>\n",
       "    </tr>\n",
       "    <tr>\n",
       "      <th>3</th>\n",
       "      <td>NaN</td>\n",
       "      <td>Andorra</td>\n",
       "      <td>42.50630</td>\n",
       "      <td>1.521800</td>\n",
       "      <td>0</td>\n",
       "      <td>0</td>\n",
       "      <td>0</td>\n",
       "      <td>0</td>\n",
       "      <td>0</td>\n",
       "      <td>0</td>\n",
       "      <td>...</td>\n",
       "      <td>15167</td>\n",
       "      <td>15167</td>\n",
       "      <td>15167</td>\n",
       "      <td>15189</td>\n",
       "      <td>15192</td>\n",
       "      <td>15209</td>\n",
       "      <td>15222</td>\n",
       "      <td>15222</td>\n",
       "      <td>15222</td>\n",
       "      <td>15222\\</td>\n",
       "    </tr>\n",
       "    <tr>\n",
       "      <th>4</th>\n",
       "      <td>NaN</td>\n",
       "      <td>Angola</td>\n",
       "      <td>-11.20270</td>\n",
       "      <td>17.873900</td>\n",
       "      <td>0</td>\n",
       "      <td>0</td>\n",
       "      <td>0</td>\n",
       "      <td>0</td>\n",
       "      <td>0</td>\n",
       "      <td>0</td>\n",
       "      <td>...</td>\n",
       "      <td>54280</td>\n",
       "      <td>54795</td>\n",
       "      <td>55121</td>\n",
       "      <td>55583</td>\n",
       "      <td>56040</td>\n",
       "      <td>56583</td>\n",
       "      <td>56583</td>\n",
       "      <td>58076</td>\n",
       "      <td>58603</td>\n",
       "      <td>58943\\</td>\n",
       "    </tr>\n",
       "  </tbody>\n",
       "</table>\n",
       "<p>5 rows × 625 columns</p>\n",
       "</div>"
      ],
      "text/plain": [
       "  Province/State Country/Region       Lat       Long  1/22/20  1/23/20  \\\n",
       "0            NaN    Afghanistan  33.93911  67.709953        0        0   \n",
       "1            NaN        Albania  41.15330  20.168300        0        0   \n",
       "2            NaN        Algeria  28.03390   1.659600        0        0   \n",
       "3            NaN        Andorra  42.50630   1.521800        0        0   \n",
       "4            NaN         Angola -11.20270  17.873900        0        0   \n",
       "\n",
       "   1/24/20  1/25/20  1/26/20  1/27/20  ...  9/24/21  9/25/21  9/26/21  \\\n",
       "0        0        0        0        0  ...   154960   154960   154960   \n",
       "1        0        0        0        0  ...   166690   167354   167893   \n",
       "2        0        0        0        0  ...   202449   202574   202722   \n",
       "3        0        0        0        0  ...    15167    15167    15167   \n",
       "4        0        0        0        0  ...    54280    54795    55121   \n",
       "\n",
       "   9/27/21  9/28/21  9/29/21  9/30/21  10/1/21  10/2/21  10/3/21\\  \n",
       "0   155072   155093   155128   155174   155191   155191   155191\\  \n",
       "1   168188   168782   169462   170131   170778   171327   171794\\  \n",
       "2   202877   203045   203198   203359   203517   203657   203789\\  \n",
       "3    15189    15192    15209    15222    15222    15222    15222\\  \n",
       "4    55583    56040    56583    56583    58076    58603    58943\\  \n",
       "\n",
       "[5 rows x 625 columns]"
      ]
     },
     "execution_count": 1,
     "metadata": {},
     "output_type": "execute_result"
    }
   ],
   "source": [
    "import pandas as pd\n",
    "\n",
    "global_data = pd.read_csv('covid_cases.csv')\n",
    "\n",
    "global_data.head()"
   ]
  },
  {
   "cell_type": "markdown",
   "metadata": {},
   "source": [
    "Some countries are split into different provinces. To stop this from interfering with analysis they will be aggregated into their respective countries. The Province/State column will now be meaningless so will be removed. The Lat and Long columns will also be removed as geographical analysis is not necessary for this project."
   ]
  },
  {
   "cell_type": "code",
   "execution_count": 2,
   "metadata": {},
   "outputs": [
    {
     "data": {
      "text/html": [
       "<div>\n",
       "<style scoped>\n",
       "    .dataframe tbody tr th:only-of-type {\n",
       "        vertical-align: middle;\n",
       "    }\n",
       "\n",
       "    .dataframe tbody tr th {\n",
       "        vertical-align: top;\n",
       "    }\n",
       "\n",
       "    .dataframe thead th {\n",
       "        text-align: right;\n",
       "    }\n",
       "</style>\n",
       "<table border=\"1\" class=\"dataframe\">\n",
       "  <thead>\n",
       "    <tr style=\"text-align: right;\">\n",
       "      <th></th>\n",
       "      <th>Country/Region</th>\n",
       "      <th>1/22/20</th>\n",
       "      <th>1/23/20</th>\n",
       "      <th>1/24/20</th>\n",
       "      <th>1/25/20</th>\n",
       "      <th>1/26/20</th>\n",
       "      <th>1/27/20</th>\n",
       "      <th>1/28/20</th>\n",
       "      <th>1/29/20</th>\n",
       "      <th>1/30/20</th>\n",
       "      <th>...</th>\n",
       "      <th>9/23/21</th>\n",
       "      <th>9/24/21</th>\n",
       "      <th>9/25/21</th>\n",
       "      <th>9/26/21</th>\n",
       "      <th>9/27/21</th>\n",
       "      <th>9/28/21</th>\n",
       "      <th>9/29/21</th>\n",
       "      <th>9/30/21</th>\n",
       "      <th>10/1/21</th>\n",
       "      <th>10/2/21</th>\n",
       "    </tr>\n",
       "  </thead>\n",
       "  <tbody>\n",
       "    <tr>\n",
       "      <th>0</th>\n",
       "      <td>Afghanistan</td>\n",
       "      <td>0</td>\n",
       "      <td>0</td>\n",
       "      <td>0</td>\n",
       "      <td>0</td>\n",
       "      <td>0</td>\n",
       "      <td>0</td>\n",
       "      <td>0</td>\n",
       "      <td>0</td>\n",
       "      <td>0</td>\n",
       "      <td>...</td>\n",
       "      <td>154800</td>\n",
       "      <td>154960</td>\n",
       "      <td>154960</td>\n",
       "      <td>154960</td>\n",
       "      <td>155072</td>\n",
       "      <td>155093</td>\n",
       "      <td>155128</td>\n",
       "      <td>155174</td>\n",
       "      <td>155191</td>\n",
       "      <td>155191</td>\n",
       "    </tr>\n",
       "    <tr>\n",
       "      <th>1</th>\n",
       "      <td>Albania</td>\n",
       "      <td>0</td>\n",
       "      <td>0</td>\n",
       "      <td>0</td>\n",
       "      <td>0</td>\n",
       "      <td>0</td>\n",
       "      <td>0</td>\n",
       "      <td>0</td>\n",
       "      <td>0</td>\n",
       "      <td>0</td>\n",
       "      <td>...</td>\n",
       "      <td>165864</td>\n",
       "      <td>166690</td>\n",
       "      <td>167354</td>\n",
       "      <td>167893</td>\n",
       "      <td>168188</td>\n",
       "      <td>168782</td>\n",
       "      <td>169462</td>\n",
       "      <td>170131</td>\n",
       "      <td>170778</td>\n",
       "      <td>171327</td>\n",
       "    </tr>\n",
       "    <tr>\n",
       "      <th>2</th>\n",
       "      <td>Algeria</td>\n",
       "      <td>0</td>\n",
       "      <td>0</td>\n",
       "      <td>0</td>\n",
       "      <td>0</td>\n",
       "      <td>0</td>\n",
       "      <td>0</td>\n",
       "      <td>0</td>\n",
       "      <td>0</td>\n",
       "      <td>0</td>\n",
       "      <td>...</td>\n",
       "      <td>202283</td>\n",
       "      <td>202449</td>\n",
       "      <td>202574</td>\n",
       "      <td>202722</td>\n",
       "      <td>202877</td>\n",
       "      <td>203045</td>\n",
       "      <td>203198</td>\n",
       "      <td>203359</td>\n",
       "      <td>203517</td>\n",
       "      <td>203657</td>\n",
       "    </tr>\n",
       "    <tr>\n",
       "      <th>3</th>\n",
       "      <td>Andorra</td>\n",
       "      <td>0</td>\n",
       "      <td>0</td>\n",
       "      <td>0</td>\n",
       "      <td>0</td>\n",
       "      <td>0</td>\n",
       "      <td>0</td>\n",
       "      <td>0</td>\n",
       "      <td>0</td>\n",
       "      <td>0</td>\n",
       "      <td>...</td>\n",
       "      <td>15156</td>\n",
       "      <td>15167</td>\n",
       "      <td>15167</td>\n",
       "      <td>15167</td>\n",
       "      <td>15189</td>\n",
       "      <td>15192</td>\n",
       "      <td>15209</td>\n",
       "      <td>15222</td>\n",
       "      <td>15222</td>\n",
       "      <td>15222</td>\n",
       "    </tr>\n",
       "    <tr>\n",
       "      <th>4</th>\n",
       "      <td>Angola</td>\n",
       "      <td>0</td>\n",
       "      <td>0</td>\n",
       "      <td>0</td>\n",
       "      <td>0</td>\n",
       "      <td>0</td>\n",
       "      <td>0</td>\n",
       "      <td>0</td>\n",
       "      <td>0</td>\n",
       "      <td>0</td>\n",
       "      <td>...</td>\n",
       "      <td>53840</td>\n",
       "      <td>54280</td>\n",
       "      <td>54795</td>\n",
       "      <td>55121</td>\n",
       "      <td>55583</td>\n",
       "      <td>56040</td>\n",
       "      <td>56583</td>\n",
       "      <td>56583</td>\n",
       "      <td>58076</td>\n",
       "      <td>58603</td>\n",
       "    </tr>\n",
       "  </tbody>\n",
       "</table>\n",
       "<p>5 rows × 621 columns</p>\n",
       "</div>"
      ],
      "text/plain": [
       "  Country/Region  1/22/20  1/23/20  1/24/20  1/25/20  1/26/20  1/27/20  \\\n",
       "0    Afghanistan        0        0        0        0        0        0   \n",
       "1        Albania        0        0        0        0        0        0   \n",
       "2        Algeria        0        0        0        0        0        0   \n",
       "3        Andorra        0        0        0        0        0        0   \n",
       "4         Angola        0        0        0        0        0        0   \n",
       "\n",
       "   1/28/20  1/29/20  1/30/20  ...  9/23/21  9/24/21  9/25/21  9/26/21  \\\n",
       "0        0        0        0  ...   154800   154960   154960   154960   \n",
       "1        0        0        0  ...   165864   166690   167354   167893   \n",
       "2        0        0        0  ...   202283   202449   202574   202722   \n",
       "3        0        0        0  ...    15156    15167    15167    15167   \n",
       "4        0        0        0  ...    53840    54280    54795    55121   \n",
       "\n",
       "   9/27/21  9/28/21  9/29/21  9/30/21  10/1/21  10/2/21  \n",
       "0   155072   155093   155128   155174   155191   155191  \n",
       "1   168188   168782   169462   170131   170778   171327  \n",
       "2   202877   203045   203198   203359   203517   203657  \n",
       "3    15189    15192    15209    15222    15222    15222  \n",
       "4    55583    56040    56583    56583    58076    58603  \n",
       "\n",
       "[5 rows x 621 columns]"
      ]
     },
     "execution_count": 2,
     "metadata": {},
     "output_type": "execute_result"
    }
   ],
   "source": [
    "global_data_summed = global_data.groupby('Country/Region').sum()\n",
    "\n",
    "df = global_data_summed.drop(['Lat', 'Long'], axis=1).reset_index() # Doesn't make sense to keep Lat/Long after dataframe has been summed\n",
    "df.head()"
   ]
  },
  {
   "cell_type": "markdown",
   "metadata": {},
   "source": [
    "It is also useful to plot some visualisations of the data before performing in-depth analysis as this gives a general idea of what the data looks like and indicates whether the chosen form of analysis is suitable. Covid cases over time will be visualised from five randomly chosen countries."
   ]
  },
  {
   "cell_type": "code",
   "execution_count": 5,
   "metadata": {},
   "outputs": [
    {
     "data": {
      "image/png": "[encoded data removed]",
      "text/plain": [
       "<Figure size 432x288 with 1 Axes>"
      ]
     },
     "metadata": {
      "needs_background": "light"
     },
     "output_type": "display_data"
    }
   ],
   "source": [
    "import random\n",
    "import matplotlib.pyplot as plt\n",
    "import datetime\n",
    "\n",
    "chosen_countries = random.sample(list(df['Country/Region'].unique()), 5)\n",
    "\n",
    "# Chosen dates to visualise US Date format: 'MM/DD/YYYY'\n",
    "start_date = '01/22/2020'\n",
    "end_date = '12/31/2020'\n",
    "\n",
    "# Function used to pull start and finish index for the chosen countires to make plotting easier\n",
    "def get_index_from_date(date_string):\n",
    "    FIRST_DATE = datetime.datetime(2020, 1, 22)\n",
    "    \n",
    "    date_list = [int(x) for x in date_string.split('/')]\n",
    "    date_object = datetime.datetime(date_list[-1], date_list[0], date_list[1])\n",
    "    \n",
    "    return (date_object-FIRST_DATE).days\n",
    "\n",
    "dates = list(df)[1:]\n",
    "\n",
    "start_index = get_index_from_date(start_date)\n",
    "end_index = get_index_from_date(end_date)\n",
    "\n",
    "x_values = dates[start_index:end_index+1]\n",
    "\n",
    "# Plot covid levels for each country on the same graph\n",
    "for country in chosen_countries:\n",
    "    country_df = df[df['Country/Region'] == country]\n",
    "    y_values = [int(country_df[col]) for col in x_values]\n",
    "    plt.plot(x_values, y_values, label=country)\n",
    "    \n",
    "plt.title('Confirmed Cases Over Time')\n",
    "skip = max(len(x_values)//5, 1) # stops too many date tick marks from being added\n",
    "plt.xticks(x_values[::skip])\n",
    "plt.xlabel(\"Date (MM/DD/YY)\")\n",
    "plt.ylabel(\"Confirmed Cases\")\n",
    "plt.legend()\n",
    "plt.show()"
   ]
  },
  {
   "cell_type": "markdown",
   "metadata": {},
   "source": [
    "There are clear patterns in the above data visualisations that imply that time series analysis will be able to identify features that can be used for predictive analysis."
   ]
  },
  {
   "cell_type": "markdown",
   "metadata": {},
   "source": [
    "### Time Series Analysis"
   ]
  },
  {
   "cell_type": "markdown",
   "metadata": {},
   "source": [
    "In this section time-series analysis will be performed for a chosen country in the data frame. The chosen method of analysis is the AutoRegressive Integrated Moving Average (ARIMA). This is a commonly used model in time series forecasting. The parameters in the ARIMA model are:\n",
    " - p, the number of lag observations included\n",
    " - d, degree of differencing\n",
    " - q, size of moving average window"
   ]
  },
  {
   "cell_type": "code",
   "execution_count": 6,
   "metadata": {},
   "outputs": [],
   "source": [
    "# Country chosen for time series analysis\n",
    "country = 'United Kingdom'\n",
    "# Create list of all countries in data frame\n",
    "country_list = list(df['Country/Region'].unique())\n",
    "# Pull index of chosen country\n",
    "country_index = country_list.index(country)\n",
    "# Pull covid levels from chosen country\n",
    "country_cases = df.iloc[country_index]"
   ]
  },
  {
   "cell_type": "markdown",
   "metadata": {},
   "source": [
    "These parameters in the ARIMA model are mainly fine-tuned through experimentation but the number of lag observations, p, can be estimated using an autocorrelation plot of the time series. This is done by observing how many lags there are with a significant positive correlation, which is commonly denoted by a correlation of 0.75 or above. There is a built-in function in python for autocorrelation plots."
   ]
  },
  {
   "cell_type": "code",
   "execution_count": 7,
   "metadata": {},
   "outputs": [
    {
     "data": {
      "image/png": "[encoded data removed]",
      "text/plain": [
       "<Figure size 432x288 with 1 Axes>"
      ]
     },
     "metadata": {
      "needs_background": "light"
     },
     "output_type": "display_data"
    }
   ],
   "source": [
    "from matplotlib import pyplot\n",
    "from pandas.plotting import autocorrelation_plot\n",
    "\n",
    "# Autocorrelation plot\n",
    "autocorrelation_plot(country_cases[1:])\n",
    "pyplot.show()"
   ]
  },
  {
   "cell_type": "markdown",
   "metadata": {},
   "source": [
    "As shown in the above graph, there is a significant positive correlation for approximately the first 50 lags, so the parameter p can be chosen as any number <50."
   ]
  },
  {
   "cell_type": "markdown",
   "metadata": {},
   "source": [
    "The ARIMA model is now fitted to the data and the resulting errors are analysed to get an idea of how well this type of model can describe the data. The chosen parameters for p, d and q are 50, 1 and 10 respectively."
   ]
  },
  {
   "cell_type": "code",
   "execution_count": 8,
   "metadata": {},
   "outputs": [
    {
     "name": "stderr",
     "output_type": "stream",
     "text": [
      "/opt/anaconda3/lib/python3.8/site-packages/statsmodels/tsa/base/tsa_model.py:159: ValueWarning: No frequency information was provided, so inferred frequency D will be used.\n",
      "  warnings.warn('No frequency information was'\n",
      "/opt/anaconda3/lib/python3.8/site-packages/statsmodels/tsa/base/tsa_model.py:159: ValueWarning: No frequency information was provided, so inferred frequency D will be used.\n",
      "  warnings.warn('No frequency information was'\n",
      "/opt/anaconda3/lib/python3.8/site-packages/statsmodels/tsa/base/tsa_model.py:159: ValueWarning: No frequency information was provided, so inferred frequency D will be used.\n",
      "  warnings.warn('No frequency information was'\n",
      "/opt/anaconda3/lib/python3.8/site-packages/statsmodels/base/model.py:567: ConvergenceWarning: Maximum Likelihood optimization failed to converge. Check mle_retvals\n",
      "  warn(\"Maximum Likelihood optimization failed to converge. \"\n"
     ]
    },
    {
     "name": "stdout",
     "output_type": "stream",
     "text": [
      "                               SARIMAX Results                                \n",
      "==============================================================================\n",
      "Dep. Variable:                    185   No. Observations:                  620\n",
      "Model:               ARIMA(50, 1, 10)   Log Likelihood               -5645.470\n",
      "Date:                Sun, 10 Oct 2021   AIC                          11412.939\n",
      "Time:                        18:07:08   BIC                          11683.054\n",
      "Sample:                    01-22-2020   HQIC                         11517.942\n",
      "                         - 10-02-2021                                         \n",
      "Covariance Type:                  opg                                         \n",
      "==============================================================================\n",
      "                 coef    std err          z      P>|z|      [0.025      0.975]\n",
      "------------------------------------------------------------------------------\n",
      "ar.L1          0.5765      0.934      0.617      0.537      -1.255       2.407\n",
      "ar.L2          0.4755      0.760      0.626      0.532      -1.014       1.965\n",
      "ar.L3          0.1704      0.713      0.239      0.811      -1.227       1.568\n",
      "ar.L4         -0.2534      0.684     -0.370      0.711      -1.595       1.088\n",
      "ar.L5         -0.1623      0.788     -0.206      0.837      -1.706       1.381\n",
      "ar.L6          0.1148      0.631      0.182      0.856      -1.122       1.351\n",
      "ar.L7          0.1878      0.563      0.334      0.739      -0.915       1.291\n",
      "ar.L8         -0.2622      0.697     -0.376      0.707      -1.628       1.104\n",
      "ar.L9         -0.3302      0.740     -0.446      0.656      -1.781       1.121\n",
      "ar.L10         0.6078      0.626      0.971      0.332      -0.619       1.835\n",
      "ar.L11        -0.0763      0.416     -0.184      0.854      -0.891       0.738\n",
      "ar.L12        -0.0227      0.289     -0.078      0.937      -0.589       0.543\n",
      "ar.L13         0.0245      0.219      0.111      0.911      -0.406       0.455\n",
      "ar.L14         0.1622      0.211      0.770      0.441      -0.251       0.575\n",
      "ar.L15        -0.0070      0.209     -0.034      0.973      -0.416       0.402\n",
      "ar.L16        -0.1189      0.176     -0.676      0.499      -0.464       0.226\n",
      "ar.L17        -0.1660      0.182     -0.910      0.363      -0.523       0.191\n",
      "ar.L18        -0.0648      0.168     -0.387      0.699      -0.393       0.264\n",
      "ar.L19         0.1219      0.185      0.660      0.509      -0.240       0.484\n",
      "ar.L20         0.0592      0.185      0.320      0.749      -0.304       0.422\n",
      "ar.L21        -0.1046      0.163     -0.641      0.522      -0.424       0.215\n",
      "ar.L22         0.1794      0.138      1.298      0.194      -0.092       0.450\n",
      "ar.L23        -0.0070      0.142     -0.049      0.961      -0.286       0.272\n",
      "ar.L24        -0.1246      0.115     -1.087      0.277      -0.349       0.100\n",
      "ar.L25        -0.0592      0.129     -0.458      0.647      -0.313       0.194\n",
      "ar.L26        -0.0240      0.106     -0.227      0.821      -0.232       0.184\n",
      "ar.L27        -0.0044      0.102     -0.043      0.965      -0.204       0.195\n",
      "ar.L28         0.1297      0.091      1.432      0.152      -0.048       0.307\n",
      "ar.L29         0.0235      0.113      0.209      0.835      -0.197       0.244\n",
      "ar.L30        -0.0937      0.107     -0.875      0.382      -0.304       0.116\n",
      "ar.L31         0.0049      0.115      0.043      0.966      -0.221       0.230\n",
      "ar.L32        -0.0730      0.112     -0.652      0.515      -0.292       0.146\n",
      "ar.L33         0.0734      0.119      0.617      0.537      -0.160       0.306\n",
      "ar.L34        -0.0105      0.136     -0.077      0.938      -0.278       0.256\n",
      "ar.L35         0.1098      0.134      0.821      0.412      -0.152       0.372\n",
      "ar.L36        -0.1226      0.188     -0.652      0.514      -0.491       0.246\n",
      "ar.L37         0.0115      0.225      0.051      0.959      -0.429       0.452\n",
      "ar.L38         0.0423      0.211      0.201      0.841      -0.371       0.456\n",
      "ar.L39         0.0845      0.205      0.412      0.680      -0.317       0.486\n",
      "ar.L40         0.0031      0.243      0.013      0.990      -0.474       0.480\n",
      "ar.L41        -0.1477      0.213     -0.692      0.489      -0.566       0.270\n",
      "ar.L42         0.0204      0.175      0.116      0.907      -0.323       0.364\n",
      "ar.L43         0.0347      0.153      0.227      0.821      -0.265       0.334\n",
      "ar.L44         0.0278      0.172      0.162      0.871      -0.309       0.364\n",
      "ar.L45        -0.1980      0.116     -1.713      0.087      -0.425       0.029\n",
      "ar.L46         0.1039      0.183      0.566      0.571      -0.256       0.463\n",
      "ar.L47         0.1801      0.100      1.804      0.071      -0.016       0.376\n",
      "ar.L48         0.0430      0.193      0.223      0.824      -0.336       0.422\n",
      "ar.L49        -0.1138      0.109     -1.047      0.295      -0.327       0.099\n",
      "ar.L50        -0.0294      0.122     -0.241      0.809      -0.268       0.209\n",
      "ma.L1          0.1841      0.932      0.198      0.843      -1.642       2.010\n",
      "ma.L2         -0.1367      0.639     -0.214      0.831      -1.389       1.116\n",
      "ma.L3         -0.2207      0.424     -0.521      0.603      -1.051       0.610\n",
      "ma.L4          0.0455      0.510      0.089      0.929      -0.954       1.045\n",
      "ma.L5          0.2285      0.504      0.454      0.650      -0.759       1.216\n",
      "ma.L6          0.1884      0.447      0.421      0.673      -0.688       1.065\n",
      "ma.L7          0.1781      0.510      0.349      0.727      -0.821       1.177\n",
      "ma.L8          0.2052      0.410      0.500      0.617      -0.599       1.009\n",
      "ma.L9          0.3469      0.510      0.681      0.496      -0.652       1.346\n",
      "ma.L10        -0.4113      0.539     -0.763      0.445      -1.468       0.645\n",
      "sigma2      5.466e+06   4.36e-06   1.25e+12      0.000    5.47e+06    5.47e+06\n",
      "===================================================================================\n",
      "Ljung-Box (Q):                        2.47   Jarque-Bera (JB):              1504.84\n",
      "Prob(Q):                              1.00   Prob(JB):                         0.00\n",
      "Heteroskedasticity (H):              61.33   Skew:                             0.55\n",
      "Prob(H) (two-sided):                  0.00   Kurtosis:                        10.56\n",
      "===================================================================================\n",
      "\n",
      "Warnings:\n",
      "[1] Covariance matrix calculated using the outer product of gradients (complex-step).\n",
      "[2] Covariance matrix is singular or near-singular, with condition number 7.79e+27. Standard errors may be unstable.\n"
     ]
    },
    {
     "data": {
      "image/png": "[encoded data removed]",
      "text/plain": [
       "<Figure size 432x288 with 1 Axes>"
      ]
     },
     "metadata": {
      "needs_background": "light"
     },
     "output_type": "display_data"
    },
    {
     "data": {
      "image/png": "[encoded data removed]",
      "text/plain": [
       "<Figure size 432x288 with 1 Axes>"
      ]
     },
     "metadata": {
      "needs_background": "light"
     },
     "output_type": "display_data"
    },
    {
     "name": "stdout",
     "output_type": "stream",
     "text": [
      "                  0\n",
      "count    620.000000\n",
      "mean      87.190469\n",
      "std     2186.989175\n",
      "min   -11434.489225\n",
      "25%     -420.226283\n",
      "50%        0.827297\n",
      "75%      517.938613\n",
      "max    12475.898301\n"
     ]
    }
   ],
   "source": [
    "from pandas import DataFrame\n",
    "from statsmodels.tsa.arima.model import ARIMA\n",
    "\n",
    "# fit model\n",
    "model = ARIMA(country_cases[1:].astype(float), order=(50,1,10))\n",
    "model_fit = model.fit()\n",
    "# summary of fit model\n",
    "print(model_fit.summary())\n",
    "# line plot of residuals\n",
    "residuals = DataFrame(model_fit.resid)\n",
    "residuals.plot()\n",
    "pyplot.show()\n",
    "# density plot of residuals\n",
    "residuals.plot(kind='kde')\n",
    "pyplot.show()\n",
    "# summary stats of residuals\n",
    "print(residuals.describe())"
   ]
  },
  {
   "cell_type": "markdown",
   "metadata": {},
   "source": [
    "Fitting the ARIMA model to the data results in a table displaying a series of statistics relating to the data as well as two graphs and then a smaller table at the bottom. The first graph details the residual errors of each data point generated by the model compared to each data point in the model. The highest error was around 10,000. In the context of covid levels in the UK, which are in the millions, this is not a particularly high error and suggests that the model is able to accurately describe the data.\n",
    "<br>\n",
    "The second graph is a density plot of the residual errors and shows that the distribution of the error is a normal distribution which is roughly centred around 0. The smaller table at the end provides further information on the residual errors and shows that the mean of the errors is 87.19. This suggests that the model is very slightly more prone to overestimating covid levels rather than underestimating them."
   ]
  },
  {
   "cell_type": "markdown",
   "metadata": {},
   "source": [
    "Now the ARIMA model is used to make predictions on unseen data which is then compared to the actual data. First, the data is split into training and test sets. The model will learn the behaviour of the data in the training set and use this information to make predictions on the test set. A common percentage split between training and test sets is 66/33 respectively. As future levels are dependent on previous levels a rolling forecast must be created. This can be done by re-creating the ARIMA model after each new observation is taken into account. Previous observations in the test set are then stored in a list called history. Due to computational limitations, a smaller number of lags are included as the ARIMA model has to be fitted after each iteration. The moving window value is also changed to improve computation time. The parameter values used for the ARIMA model for each value in the training set will be p=5, d=1 and q=0. The Root Mean Squared Error (RMSE) is then used to evaluate the performance of the model on the test data."
   ]
  },
  {
   "cell_type": "code",
   "execution_count": 10,
   "metadata": {},
   "outputs": [
    {
     "name": "stderr",
     "output_type": "stream",
     "text": [
      "<ipython-input-10-3786a28aac5b>:1: FutureWarning: The pandas.datetime class is deprecated and will be removed from pandas in a future version. Import from datetime module instead.\n",
      "  from pandas import datetime\n"
     ]
    },
    {
     "name": "stdout",
     "output_type": "stream",
     "text": [
      "predicted=7913684.6687921025 expected=7908091\n",
      "Test RMSE: 2724.515\n"
     ]
    }
   ],
   "source": [
    "from pandas import datetime\n",
    "from statsmodels.tsa.arima.model import ARIMA\n",
    "from sklearn.metrics import mean_squared_error\n",
    "from math import sqrt\n",
    "\n",
    "# Data is split into train and test sets\n",
    "X = country_cases[1:].values\n",
    "size = int(len(X) * 0.66)\n",
    "train, test = X[0:size], X[size:len(X)]\n",
    "history = [x for x in train]\n",
    "predictions = list()\n",
    "\n",
    "# walk-forward validation\n",
    "for t in range(len(test)):\n",
    "    model = ARIMA(history, order=(5,1,0))\n",
    "    model_fit = model.fit()\n",
    "    output = model_fit.forecast()\n",
    "    pred = output[0]\n",
    "    predictions.append(pred)\n",
    "    obs = test[t]\n",
    "    history.append(obs)\n",
    "print(f'predicted={pred}', f'expected={obs}')\n",
    "# Evaluate predictions\n",
    "rmse = sqrt(mean_squared_error(test, predictions))\n",
    "print(f'Test RMSE={rmse}')\n"
   ]
  },
  {
   "cell_type": "code",
   "execution_count": 23,
   "metadata": {},
   "outputs": [
    {
     "data": {
      "image/png": "[encoded data removed]",
      "text/plain": [
       "<Figure size 504x504 with 2 Axes>"
      ]
     },
     "metadata": {
      "needs_background": "light"
     },
     "output_type": "display_data"
    }
   ],
   "source": [
    "# Plotting predictions and actual covid levels for comparison\n",
    "plt.figure(figsize=(7,7))\n",
    "\n",
    "plt.subplot(2, 1, 1)\n",
    "plt.plot(test, color='red')\n",
    "plt.title('Actual Covid Levels')\n",
    "plt.ylabel('Number of Covid Cases')\n",
    "\n",
    "\n",
    "plt.subplot(2, 1, 2)\n",
    "plt.plot(predictions, color='blue')\n",
    "plt.title('Predicted Covid Levels')\n",
    "plt.xlabel('Date index')\n",
    "plt.ylabel('Number of Covid Cases')\n",
    "\n",
    "plt.tight_layout()\n",
    "plt.show()"
   ]
  },
  {
   "cell_type": "markdown",
   "metadata": {},
   "source": [
    "As shown by the above graphs, the predictions made by the ARIMA model closely resemble the actual covid levels. Furthermore, the overall  Root Mean Squared Error, RMSE, on the test set was recorded as 2724.515 which when compared to the numbers being dealt with (covid cases in the UK are in the millions) is relatively low. This indicates that this model is perfectly capable of making predictions on future covid levels if deaths and vaccinations are not taken into account."
   ]
  },
  {
   "cell_type": "code",
   "execution_count": null,
   "metadata": {},
   "outputs": [],
   "source": []
  }
 ],
 "metadata": {
  "kernelspec": {
   "display_name": "Python 3",
   "language": "python",
   "name": "python3"
  },
  "language_info": {
   "codemirror_mode": {
    "name": "ipython",
    "version": 3
   },
   "file_extension": ".py",
   "mimetype": "text/x-python",
   "name": "python",
   "nbconvert_exporter": "python",
   "pygments_lexer": "ipython3",
   "version": "3.8.3"
  }
 },
 "nbformat": 4,
 "nbformat_minor": 4
}
